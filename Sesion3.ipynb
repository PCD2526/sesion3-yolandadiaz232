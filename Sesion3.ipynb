{
  "cells": [
    {
      "cell_type": "markdown",
      "metadata": {
        "id": "view-in-github",
        "colab_type": "text"
      },
      "source": [
        "<a href=\"https://colab.research.google.com/github/PCD2526/sesion3-yolandadiaz232/blob/main/Sesion3.ipynb\" target=\"_parent\"><img src=\"https://colab.research.google.com/assets/colab-badge.svg\" alt=\"Open In Colab\"/></a>"
      ]
    },
    {
      "cell_type": "markdown",
      "metadata": {
        "id": "aaRjJfK0mCu8"
      },
      "source": [
        "# Sesión 3: estructuras de datos y ficheros"
      ]
    },
    {
      "cell_type": "markdown",
      "metadata": {
        "id": "OfEu7DuRmCu-"
      },
      "source": [
        "En esta sesión vamos a incidir de nuevo en el manejo de estructuras de alto nivel (listas, tuplas, conjuntos y diccionarios). Además, tratamos brevemente el asunto de los ficheros en Python. No vamos a entrar de lleno en ello, ya que, para los objetivos del curso, resulta más conveniente esperar a tratar el manejo de ficheros usando librerías (Pandas y Numpy)."
      ]
    },
    {
      "cell_type": "markdown",
      "metadata": {
        "id": "cy82JMKkmCu-"
      },
      "source": [
        "Podemos encontrar explicación con un nivel suficiente de detalle en la [Sección 5 del tutorial de Python](https://docs.python.org/3/tutorial/datastructures.html).\n",
        "\n",
        "También es adecuda la sección dedicada a [\"data structures and sequences\" del libro \"Python for data analysis\"](https://wesmckinney.com/book/python-builtin#tut_data_structures)."
      ]
    },
    {
      "cell_type": "markdown",
      "metadata": {
        "id": "tSUIeBnCmCu_"
      },
      "source": [
        "## Listas"
      ]
    },
    {
      "cell_type": "markdown",
      "metadata": {
        "id": "aHOPAa6xmCu_"
      },
      "source": [
        "Las listas de Python son objetos heterogéneos mutables.\n",
        "El acceso habitual es por índice o a través de slices.\n",
        "Se dispone de un importante grupo de métodos (de los objetos de la clase List) para operar con listas."
      ]
    },
    {
      "cell_type": "code",
      "execution_count": null,
      "metadata": {
        "id": "Gx1FX3ylmCvA",
        "colab": {
          "base_uri": "https://localhost:8080/"
        },
        "outputId": "9d72450b-c140-4a69-ca03-550edbd41424"
      },
      "outputs": [
        {
          "output_type": "stream",
          "name": "stdout",
          "text": [
            "0\n"
          ]
        },
        {
          "output_type": "execute_result",
          "data": {
            "text/plain": [
              "[23, 45, 67, 89, 7]"
            ]
          },
          "metadata": {},
          "execution_count": 1
        }
      ],
      "source": [
        "#para añadir al final append\n",
        "J=[\"pepe\",3]\n",
        "print(J.index(\"pepe\"))\n",
        "L=[23,45,67,89]\n",
        "L.append(7)\n",
        "L"
      ]
    },
    {
      "cell_type": "code",
      "execution_count": null,
      "metadata": {
        "id": "ys7d-88zmCvB",
        "colab": {
          "base_uri": "https://localhost:8080/"
        },
        "outputId": "25cfdb98-cd20-4e61-fb18-da056ab36eed"
      },
      "outputs": [
        {
          "output_type": "execute_result",
          "data": {
            "text/plain": [
              "[23, 45, 67, 89, 7, 1, 2, 3, 4, 5, 6, 7, 8, 1]"
            ]
          },
          "metadata": {},
          "execution_count": 2
        }
      ],
      "source": [
        "#Se puede extender una lista con cualquier objeto iterable. Una tupla,\n",
        "#L.extend((3,4))\n",
        "#L.append lo que te hace es añadir un elemento que es una lista, no apliar\n",
        "\n",
        "L.extend(range(1,9))\n",
        "#Lo siguiente no es correcto porque...\n",
        "#L1=L.extend((1,))\n",
        "#L,L1\n",
        "#print(L1)\n",
        "#Lo siguiente tampoco\n",
        "#L1=L.extend((1,)).copy()\n",
        "#print(L1)\n",
        "L.extend((1,))\n",
        "L1=L.copy()\n",
        "L1"
      ]
    },
    {
      "cell_type": "code",
      "execution_count": null,
      "metadata": {
        "id": "wRDmhHoYmCvB",
        "colab": {
          "base_uri": "https://localhost:8080/"
        },
        "outputId": "a2d29150-da24-4ea3-f1d4-f31a0796b19c"
      },
      "outputs": [
        {
          "output_type": "execute_result",
          "data": {
            "text/plain": [
              "[23, 45, 67, 89, 7, 1, 2, 3, 4, 5, 6, 7, 8, 1, 2, 3]"
            ]
          },
          "metadata": {},
          "execution_count": 3
        }
      ],
      "source": [
        "#Si extendemos una lista con un diccionario, añadimos las claves del diccionario\n",
        "L.extend({2:\"hola\",3:\"adiós\"})\n",
        "L"
      ]
    },
    {
      "cell_type": "code",
      "execution_count": null,
      "metadata": {
        "id": "TEm3MnGImCvC",
        "colab": {
          "base_uri": "https://localhost:8080/"
        },
        "outputId": "943ab417-8b32-4cec-a2ed-7f0863066f1d"
      },
      "outputs": [
        {
          "output_type": "execute_result",
          "data": {
            "text/plain": [
              "[23, 45, 444, 67, 89, 7, 1, 2, 3, 4, 5, 6, 7, 8, 1, 2, 3]"
            ]
          },
          "metadata": {},
          "execution_count": 4
        }
      ],
      "source": [
        "#Añadir por posición\n",
        "L.insert(2,444)\n",
        "L"
      ]
    },
    {
      "cell_type": "code",
      "execution_count": null,
      "metadata": {
        "id": "Ushc3l3CmCvC",
        "colab": {
          "base_uri": "https://localhost:8080/",
          "height": 193
        },
        "outputId": "d5ea778f-87f3-45c6-eb0f-f50018b7dbf2"
      },
      "outputs": [
        {
          "output_type": "error",
          "ename": "ValueError",
          "evalue": "list.remove(x): x not in list",
          "traceback": [
            "\u001b[0;31m---------------------------------------------------------------------------\u001b[0m",
            "\u001b[0;31mValueError\u001b[0m                                Traceback (most recent call last)",
            "\u001b[0;32m/tmp/ipython-input-2013198076.py\u001b[0m in \u001b[0;36m<cell line: 0>\u001b[0;34m()\u001b[0m\n\u001b[1;32m      2\u001b[0m \u001b[0;31m#L.remove(3)\u001b[0m\u001b[0;34m\u001b[0m\u001b[0;34m\u001b[0m\u001b[0m\n\u001b[1;32m      3\u001b[0m \u001b[0;31m#print(L)\u001b[0m\u001b[0;34m\u001b[0m\u001b[0;34m\u001b[0m\u001b[0m\n\u001b[0;32m----> 4\u001b[0;31m \u001b[0mL\u001b[0m\u001b[0;34m.\u001b[0m\u001b[0mremove\u001b[0m\u001b[0;34m(\u001b[0m\u001b[0;36m888\u001b[0m\u001b[0;34m)\u001b[0m\u001b[0;34m\u001b[0m\u001b[0;34m\u001b[0m\u001b[0m\n\u001b[0m\u001b[1;32m      5\u001b[0m \u001b[0mL\u001b[0m\u001b[0;34m\u001b[0m\u001b[0;34m\u001b[0m\u001b[0m\n",
            "\u001b[0;31mValueError\u001b[0m: list.remove(x): x not in list"
          ]
        }
      ],
      "source": [
        "#Borrar un dato (su primera aparición)\n",
        "#L.remove(3)\n",
        "#print(L)\n",
        "L.remove(888)\n",
        "L"
      ]
    },
    {
      "cell_type": "code",
      "execution_count": null,
      "metadata": {
        "id": "-FICbT-WmCvC"
      },
      "outputs": [],
      "source": [
        "L.insert(3,33)\n",
        "L.insert(7,33)\n",
        "L.insert(0,3)\n"
      ]
    },
    {
      "cell_type": "code",
      "execution_count": null,
      "metadata": {
        "id": "gTHzo0qwmCvC"
      },
      "outputs": [],
      "source": [
        "#primer índice que ocupa un elemento a partir de una determinada posición (opcional)\n",
        "L.index(3)"
      ]
    },
    {
      "cell_type": "code",
      "execution_count": null,
      "metadata": {
        "id": "912-5WFZmCvD"
      },
      "outputs": [],
      "source": [
        "L.index(3,5)"
      ]
    },
    {
      "cell_type": "code",
      "execution_count": null,
      "metadata": {
        "id": "tuT_gMS9mCvD"
      },
      "outputs": [],
      "source": [
        "L.index(3,27)"
      ]
    },
    {
      "cell_type": "code",
      "execution_count": null,
      "metadata": {
        "id": "LRLpUPVsmCvD"
      },
      "outputs": [],
      "source": [
        "#Aunque no es un método de listas, el \"operador del\" permite eliminar por posición\n",
        "print(L)\n",
        "del (L[0])\n",
        "print(L)"
      ]
    },
    {
      "cell_type": "code",
      "execution_count": null,
      "metadata": {
        "id": "zLUbSfFnmCvD"
      },
      "outputs": [],
      "source": [
        "del(L[5:8])\n",
        "print(L)\n",
        "#dir(L)"
      ]
    },
    {
      "cell_type": "markdown",
      "metadata": {
        "raw_mimetype": "text/latex",
        "id": "waolvdmAmCvD"
      },
      "source": [
        "**Trabajo personal**: hacer pruebas con ``pop``, ``cont``, ``sort``, ``copy``, ``clear``, ..."
      ]
    },
    {
      "cell_type": "markdown",
      "metadata": {
        "id": "GI7WkPNxmCvD"
      },
      "source": [
        "Consultar la documentación para ver el uso de las listas Python como pilas y colas."
      ]
    },
    {
      "cell_type": "markdown",
      "metadata": {
        "id": "2fWdCw1cmCvE"
      },
      "source": [
        "###### Muy importante."
      ]
    },
    {
      "cell_type": "code",
      "execution_count": null,
      "metadata": {
        "id": "rE38-UmVmCvE"
      },
      "outputs": [],
      "source": [
        "L.insert(0,8)\n",
        "L\n",
        "type(L.insert(0,8))\n",
        "# help(list.insert)"
      ]
    },
    {
      "cell_type": "markdown",
      "metadata": {
        "id": "Xu6toAv6mCvE"
      },
      "source": [
        "Como ya hemos visto antes, los métodos modificadores no devuelven, es decir, devuelven ``None``.\n",
        "Por eso, no funciona lo siguiente (algo que choca desde el punto de vista funcional)"
      ]
    },
    {
      "cell_type": "code",
      "execution_count": null,
      "metadata": {
        "id": "IWNoOumtmCvE"
      },
      "outputs": [],
      "source": [
        "\n",
        "L.insert(0,8).insert(4,5)\n"
      ]
    },
    {
      "cell_type": "markdown",
      "metadata": {
        "id": "hnu4ZvzLmCvE"
      },
      "source": [
        "### Listas por comprensión"
      ]
    },
    {
      "cell_type": "markdown",
      "metadata": {
        "id": "u-LPTO9TmCvE"
      },
      "source": [
        "Una herramienta importante de Python es la definición de listas por comprensión, un mecanismo propio de la Programación Funcional y que veremos con más detalle en sesiones posteriores.\n",
        "Corresponde a un tipo de definición habitual en matemáticas, conjuntos definidos por \"comprensión\". De momento, nos limitamos a presentarlo."
      ]
    },
    {
      "cell_type": "code",
      "execution_count": null,
      "metadata": {
        "id": "ZH44H1TxmCvE"
      },
      "outputs": [],
      "source": [
        "dobles=[2*x for x in [1,2,3,4,5,6]]\n",
        "print(dobles)"
      ]
    },
    {
      "cell_type": "code",
      "execution_count": null,
      "metadata": {
        "id": "hQqqKg68mCvF"
      },
      "outputs": [],
      "source": [
        "#Es una forma muy cómoda y compacta de calcular expresiones de tipo list\n",
        "#Equivale a:\n",
        "duplos=[]\n",
        "for x in [1,2,3,4,5,6]:\n",
        "    duplos.append(2*x)\n",
        "print(duplos)"
      ]
    },
    {
      "cell_type": "code",
      "execution_count": null,
      "metadata": {
        "id": "9CqJjkOMmCvF"
      },
      "outputs": [],
      "source": [
        "#Se pueden filtrar elementos\n",
        "triples=[3*x for x in range(1,7) if (x%2==0)]\n",
        "triples"
      ]
    },
    {
      "cell_type": "code",
      "execution_count": null,
      "metadata": {
        "id": "smXU8atJmCvF"
      },
      "outputs": [],
      "source": [
        "#Equivale a\n",
        "triplos=[]\n",
        "for x in [1,2,3,4,5,6]:\n",
        "    if (x%2==0):\n",
        "        triplos.append(3*x)\n",
        "print(triplos)"
      ]
    },
    {
      "cell_type": "code",
      "execution_count": null,
      "metadata": {
        "id": "40HaKJpLmCvF"
      },
      "outputs": [],
      "source": [
        "#Se admiten expresiones lista, tupla,..\n",
        "#Se admite concatenación de parejas for...if\n",
        "combi=[(x, y) for x in [1,2,3] for y in [3,1,4] if x != y]\n",
        "combi"
      ]
    },
    {
      "cell_type": "code",
      "execution_count": null,
      "metadata": {
        "id": "0I5_aAmpmCvF"
      },
      "outputs": [],
      "source": [
        "combs = []\n",
        "for x in [1,2,3]:\n",
        "    for y in [3,11,4]:\n",
        "        if x != y:\n",
        "            combs.append((x, y))\n",
        "combs"
      ]
    },
    {
      "cell_type": "code",
      "execution_count": null,
      "metadata": {
        "id": "XUrE6FrOmCvF"
      },
      "outputs": [],
      "source": [
        "#Se pueden anidar listas definidas por conprensión.\n",
        "ani=[[x*x for x in range(1,i)] for i in range(2,7)]\n",
        "ani"
      ]
    },
    {
      "cell_type": "code",
      "execution_count": null,
      "metadata": {
        "id": "5HiEm1xZmCvG"
      },
      "outputs": [],
      "source": [
        "def ident(n):\n",
        "    return([[int(i==x) for i in range(0,n)] for x in range (0,n)])\n",
        "\n",
        "print(ident(3))"
      ]
    },
    {
      "cell_type": "markdown",
      "metadata": {
        "id": "peZNrYYymCvG"
      },
      "source": [
        "###### Otros tipos secuencia (además de listas): tuplas y rangos"
      ]
    },
    {
      "cell_type": "markdown",
      "metadata": {
        "id": "BDj2ph3qmCvG"
      },
      "source": [
        "Los tres tipos secuencia básicos son listas, tuplas y rangos.\n",
        "Los operadores comunes  todos ellos los encontramos en:\n",
        "    https://docs.python.org/3/library/stdtypes.html#typesseq"
      ]
    },
    {
      "cell_type": "code",
      "execution_count": null,
      "metadata": {
        "id": "DENd6-X0mCvG"
      },
      "outputs": [],
      "source": [
        "#Respecto de TUPLAS, se trata de secuencias inmutables y heterogéneas\n",
        "t=3,[3,4],\"pepe\"\n",
        "print(t)"
      ]
    },
    {
      "cell_type": "code",
      "execution_count": null,
      "metadata": {
        "id": "bpt1YmGHmCvG"
      },
      "outputs": [],
      "source": [
        "#Ya dijimos que son objetos inmutables\n",
        "t[2]=4"
      ]
    },
    {
      "cell_type": "code",
      "execution_count": null,
      "metadata": {
        "id": "CuBdDDz3mCvG"
      },
      "outputs": [],
      "source": [
        "#El acceso por índice y slice es el común a todos los tipos de secuencias\n",
        "t[1]"
      ]
    },
    {
      "cell_type": "code",
      "execution_count": null,
      "metadata": {
        "id": "-LGWEh5amCvG"
      },
      "outputs": [],
      "source": [
        "t[0:1]"
      ]
    },
    {
      "cell_type": "code",
      "execution_count": null,
      "metadata": {
        "id": "DdTNpfffmCvQ"
      },
      "outputs": [],
      "source": [
        "#La tupla vacía\n",
        "s=()\n",
        "s"
      ]
    },
    {
      "cell_type": "code",
      "execution_count": null,
      "metadata": {
        "id": "pgs5uUhumCvQ"
      },
      "outputs": [],
      "source": [
        "#los átomos llevan una coma\n",
        "s=(3,)\n",
        "s\n",
        "type ((3))\n",
        "#type((3,))"
      ]
    },
    {
      "cell_type": "code",
      "execution_count": null,
      "metadata": {
        "id": "hkdpH3_OmCvR"
      },
      "outputs": [],
      "source": [
        "s=3,\n",
        "s"
      ]
    },
    {
      "cell_type": "code",
      "execution_count": null,
      "metadata": {
        "id": "-aimmdCVmCvR"
      },
      "outputs": [],
      "source": [
        "#Se construyen a partir de cualquier iterable. Una lista, por ejemplo.\n",
        "s=tuple([x*x for x in range(2,5)])\n",
        "s"
      ]
    },
    {
      "cell_type": "code",
      "execution_count": null,
      "metadata": {
        "id": "3yiNyLzcmCvR"
      },
      "outputs": [],
      "source": [
        "#Empaquetado y desempquetado. Corresponde con la idea de matching\n",
        "s=3,4,5\n",
        "x,y,z=s\n",
        "y"
      ]
    },
    {
      "cell_type": "code",
      "execution_count": null,
      "metadata": {
        "id": "omebf_EumCvR"
      },
      "outputs": [],
      "source": [
        "#Más adelante en el curso trataremos con rigor los rangos.\n",
        "#Aunque no es el uso habitual, los rangos pueden ser utilizados directamente\n",
        "#como secuencias\n",
        "#Se basan en la idea de evluación perezosa (no se calculan sus elementos hasta que no se demanda)\n",
        "range (1,25,2)"
      ]
    },
    {
      "cell_type": "code",
      "execution_count": null,
      "metadata": {
        "id": "zHSfR2xjmCvR"
      },
      "outputs": [],
      "source": [
        "print(range(1, 25, 2))"
      ]
    },
    {
      "cell_type": "code",
      "execution_count": null,
      "metadata": {
        "id": "VCpnvsZ6mCvS"
      },
      "outputs": [],
      "source": [
        "4 in range(1,25,2)"
      ]
    },
    {
      "cell_type": "code",
      "execution_count": null,
      "metadata": {
        "id": "XCXK-2osmCvS"
      },
      "outputs": [],
      "source": [
        "s=range(1,25,7)\n",
        "s.step"
      ]
    },
    {
      "cell_type": "code",
      "execution_count": null,
      "metadata": {
        "id": "LLf23_wJmCvS"
      },
      "outputs": [],
      "source": [
        "5 not in s"
      ]
    },
    {
      "cell_type": "code",
      "execution_count": null,
      "metadata": {
        "id": "r95I06NYmCvS"
      },
      "outputs": [],
      "source": [
        "s=tuple(range(4,8))\n",
        "s"
      ]
    },
    {
      "cell_type": "code",
      "execution_count": null,
      "metadata": {
        "id": "2NbD884XmCvS"
      },
      "outputs": [],
      "source": [
        "min(range(5,8))+max(range(3,7))\n"
      ]
    },
    {
      "cell_type": "code",
      "execution_count": null,
      "metadata": {
        "id": "s4TvSlvKmCvS"
      },
      "outputs": [],
      "source": [
        "range(2,4)[1]"
      ]
    },
    {
      "cell_type": "code",
      "execution_count": null,
      "metadata": {
        "id": "-mW1GJJqmCvT"
      },
      "outputs": [],
      "source": [
        "#Accesores a rangos mediante índices\n",
        "l=range(2,17)[2:7:3]\n",
        "print(l)"
      ]
    },
    {
      "cell_type": "markdown",
      "metadata": {
        "id": "A_aC_hFTmCvT"
      },
      "source": [
        "**Trabajo personal**: respecto de conjuntos y diccionarios, consultad el Tutorial de Python."
      ]
    },
    {
      "cell_type": "code",
      "execution_count": null,
      "metadata": {
        "id": "btL8hmYsmCvT"
      },
      "outputs": [],
      "source": [
        "list(l)\n",
        "l.count(6)"
      ]
    },
    {
      "cell_type": "markdown",
      "source": [
        "-------------------------------"
      ],
      "metadata": {
        "id": "JcgkaHVNnYm8"
      }
    },
    {
      "cell_type": "markdown",
      "metadata": {
        "id": "cyjsVCWpmCvT"
      },
      "source": [
        "## Ejercicios\n",
        "\n",
        "A continuación se listan los ejercicios a realizar para esta sesión. Para cada uno de ellos se proporciona la cabecera de la función a definir junto con unos casos de prueba para verificar el comportamiento correcto de los métodos. Lo único que deberás hacer es reemplazar el ``pass`` por la definición de la función."
      ]
    },
    {
      "cell_type": "markdown",
      "source": [
        "**Ejercicio:** Mediante listas definidas por comprensión define una función que calcule la suma de los cuadrados de los números menores que un entero dado."
      ],
      "metadata": {
        "id": "Gfo88vC9pZQu"
      }
    },
    {
      "cell_type": "code",
      "source": [
        "def suma_cuadrados_menores_entero(lista,x):\n",
        "  '''\n",
        "  >>> suma_cuadrados_menores_entero([],2)\n",
        "  0\n",
        "  >>> suma_cuadrados_menores_entero(range(0,10),5)\n",
        "  30\n",
        "  >>> suma_cuadrados_menores_entero(range(-10,10,2),0)\n",
        "  220\n",
        "  '''\n",
        "\n",
        "  return sum(num*num for num in lista if num < x)\n",
        "\n",
        "print(suma_cuadrados_menores_entero([],2))\n",
        "print(suma_cuadrados_menores_entero(range(0,10),5))\n",
        "print(suma_cuadrados_menores_entero(range(-10,10,2),0))"
      ],
      "metadata": {
        "id": "krlbKzrZphiV",
        "colab": {
          "base_uri": "https://localhost:8080/"
        },
        "outputId": "5ad03e40-5816-44c6-90ba-fb2afb2d6581"
      },
      "execution_count": null,
      "outputs": [
        {
          "output_type": "stream",
          "name": "stdout",
          "text": [
            "30\n",
            "220\n"
          ]
        }
      ]
    },
    {
      "cell_type": "code",
      "source": [
        "import doctest\n",
        "doctest.testmod()"
      ],
      "metadata": {
        "id": "JuQBX8W5phfl",
        "colab": {
          "base_uri": "https://localhost:8080/"
        },
        "outputId": "ae03069d-86bc-4548-9fd9-bf9a1ad3d543"
      },
      "execution_count": 5,
      "outputs": [
        {
          "output_type": "execute_result",
          "data": {
            "text/plain": [
              "TestResults(failed=0, attempted=4)"
            ]
          },
          "metadata": {},
          "execution_count": 5
        }
      ]
    },
    {
      "cell_type": "markdown",
      "source": [
        "**Ejercicio:** Mediante listas definidas por comprensión define una función que calcule la lista de los divisores de un número."
      ],
      "metadata": {
        "id": "xnh8WJx7prs-"
      }
    },
    {
      "cell_type": "code",
      "source": [
        "def divisores(x):\n",
        "  '''\n",
        "  >>> divisores(0)\n",
        "  []\n",
        "  >>> divisores(7)\n",
        "  [1, 7]\n",
        "  >>> divisores(12)\n",
        "  [1, 2, 3, 4, 6, 12]\n",
        "  '''\n",
        "  return [i for i in range(1,x+1) if x%i == 0]\n",
        "\n",
        "print(divisores(0))\n",
        "print(divisores(7))\n",
        "print(divisores(12))"
      ],
      "metadata": {
        "id": "CIh3y4z4prs_",
        "colab": {
          "base_uri": "https://localhost:8080/"
        },
        "outputId": "4f07a804-4130-4b44-8bb2-5932f10a10b6"
      },
      "execution_count": null,
      "outputs": [
        {
          "output_type": "stream",
          "name": "stdout",
          "text": [
            "[]\n",
            "[1, 7]\n",
            "[1, 2, 3, 4, 6, 12]\n"
          ]
        }
      ]
    },
    {
      "cell_type": "code",
      "source": [
        "doctest.testmod()"
      ],
      "metadata": {
        "id": "VHSw4piEprtA"
      },
      "execution_count": null,
      "outputs": []
    },
    {
      "cell_type": "markdown",
      "source": [
        "**Ejercicio:** Mediante listas definidas por comprensión define una función que determine si un número es primo."
      ],
      "metadata": {
        "id": "VTr5la-Up1Wr"
      }
    },
    {
      "cell_type": "code",
      "source": [
        "def es_primo(x):\n",
        "  '''\n",
        "  >>> es_primo(1)\n",
        "  False\n",
        "  >>> es_primo(7)\n",
        "  True\n",
        "  >>> es_primo(12)\n",
        "  False\n",
        "  '''\n",
        "  return len(divisores(x)) == 2\n",
        "\n",
        "print(es_primo(1))\n",
        "print(es_primo(7))\n",
        "print(es_primo(12))"
      ],
      "metadata": {
        "id": "1mhyZg5Xp1Ws",
        "colab": {
          "base_uri": "https://localhost:8080/"
        },
        "outputId": "29795c5b-af9e-464f-d4f0-10cab4dd31a2"
      },
      "execution_count": null,
      "outputs": [
        {
          "output_type": "stream",
          "name": "stdout",
          "text": [
            "False\n",
            "True\n",
            "False\n"
          ]
        }
      ]
    },
    {
      "cell_type": "code",
      "source": [
        "doctest.testmod()"
      ],
      "metadata": {
        "id": "_K5jUwmJp1Ws"
      },
      "execution_count": null,
      "outputs": []
    },
    {
      "cell_type": "markdown",
      "source": [
        "**Ejercicio:** Mediante listas definidas por comprensión define una función que calcule los primos menores que un entero dado."
      ],
      "metadata": {
        "id": "1t9TLWlgqALk"
      }
    },
    {
      "cell_type": "code",
      "source": [
        "def primos_menores(x):\n",
        "  '''\n",
        "  >>> primos_menores(1)\n",
        "  []\n",
        "  >>> primos_menores(10)\n",
        "  [2, 3, 5, 7]\n",
        "  >>> primos_menores(50)\n",
        "  [2, 3, 5, 7, 11, 13, 17, 19, 23, 29, 31, 37, 41, 43, 47]\n",
        "  '''\n",
        "  return [i for i in range(1,x) if es_primo(i)]\n",
        "\n",
        "print(primos_menores(1))\n",
        "print(primos_menores(10))\n",
        "print(primos_menores(50))\n"
      ],
      "metadata": {
        "id": "brqFhGDDqALl",
        "colab": {
          "base_uri": "https://localhost:8080/"
        },
        "outputId": "c040a814-919e-40de-a2a3-789f088ccba3"
      },
      "execution_count": null,
      "outputs": [
        {
          "output_type": "stream",
          "name": "stdout",
          "text": [
            "[]\n",
            "[2, 3, 5, 7]\n",
            "[2, 3, 5, 7, 11, 13, 17, 19, 23, 29, 31, 37, 41, 43, 47]\n"
          ]
        }
      ]
    },
    {
      "cell_type": "code",
      "source": [
        "doctest.testmod()"
      ],
      "metadata": {
        "id": "UTY6MP-TqALl"
      },
      "execution_count": null,
      "outputs": []
    },
    {
      "cell_type": "markdown",
      "source": [
        "**Ejercicio:** Implementa el método para [ordenar por mezcla](https://es.wikipedia.org/wiki/Ordenamiento_por_mezcla) una lista."
      ],
      "metadata": {
        "id": "4PEyRS0GqIMO"
      }
    },
    {
      "cell_type": "code",
      "source": [
        "def mergesort(lista):\n",
        "  '''\n",
        "  >>> mergesort([])\n",
        "  []\n",
        "  >>> mergesort([1])\n",
        "  [1]\n",
        "  >>> mergesort([5,1,-1,4,5,7])\n",
        "  [-1, 1, 4, 5, 5, 7]\n",
        "  >>> mergesort([5,1,-1,4,5,7,8])\n",
        "  [-1, 1, 4, 5, 5, 7, 8]\n",
        "  '''\n",
        "  if len(lista) <= 1:\n",
        "    return lista\n",
        "  else:\n",
        "    m = len(lista) // 2\n",
        "    izq = mergesort(lista[:m])\n",
        "    der = mergesort(lista[m:])\n",
        "    return merge(izq, der)\n",
        "\n",
        "def merge(izq,der):\n",
        "  resul = []\n",
        "  while len(izq) > 0 and len(der) > 0:\n",
        "    if izq[0] <= der[0]:\n",
        "      resul.append(izq[0])\n",
        "      izq = izq[1:]\n",
        "    else:\n",
        "      resul.append(der[0])\n",
        "      der.pop(0)\n",
        "  if len(izq) > 0:\n",
        "    resul.extend(izq)\n",
        "  if len(der) > 0:\n",
        "    resul.extend(der)\n",
        "  return resul"
      ],
      "metadata": {
        "id": "Uw9x7r3cqIMP"
      },
      "execution_count": 4,
      "outputs": []
    },
    {
      "cell_type": "code",
      "source": [
        "doctest.testmod()"
      ],
      "metadata": {
        "id": "0-gYgQh0qIMQ",
        "colab": {
          "base_uri": "https://localhost:8080/"
        },
        "outputId": "4911a0cb-c6c1-4b37-a617-219fea847f36"
      },
      "execution_count": 5,
      "outputs": [
        {
          "output_type": "execute_result",
          "data": {
            "text/plain": [
              "TestResults(failed=0, attempted=4)"
            ]
          },
          "metadata": {},
          "execution_count": 5
        }
      ]
    },
    {
      "cell_type": "markdown",
      "source": [
        "**Ejercicio:** Implementa el método [quicksort](https://es.wikipedia.org/wiki/Quicksort) para ordenar una lista."
      ],
      "metadata": {
        "id": "6TbMkAhnqSpb"
      }
    },
    {
      "cell_type": "code",
      "source": [
        "def quicksort(lista):\n",
        "  '''\n",
        "  >>> quicksort([])\n",
        "  []\n",
        "  >>> quicksort([1])\n",
        "  [1]\n",
        "  >>> quicksort([5,1,-1,4,5,7])\n",
        "  [-1, 1, 4, 5, 5, 7]\n",
        "  >>> quicksort([5,1,-1,4,5,7,8])\n",
        "  [-1, 1, 4, 5, 5, 7, 8]\n",
        "  '''\n",
        "  if len(lista) <= 1:\n",
        "    return lista\n",
        "  else:\n",
        "    p = lista[0]\n",
        "\n",
        "    sublista_menores = []\n",
        "    sublista_mayores = []\n",
        "\n",
        "    for x in lista[1:]:\n",
        "      if x < p:\n",
        "        sublista_menores.append(x)\n",
        "      else:\n",
        "        sublista_mayores.append(x)\n",
        "\n",
        "    menores_ordenados = quicksort(sublista_menores)\n",
        "    mayores_ordenados = quicksort(sublista_mayores)\n",
        "\n",
        "    return menores_ordenados + [p] + mayores_ordenados\n",
        "\n",
        "\n",
        "print(quicksort([5,1,-1,4,5,7]))"
      ],
      "metadata": {
        "id": "TI3-VKGpqSpb",
        "colab": {
          "base_uri": "https://localhost:8080/"
        },
        "outputId": "a48181cd-8679-4771-c1db-058757706975"
      },
      "execution_count": null,
      "outputs": [
        {
          "output_type": "stream",
          "name": "stdout",
          "text": [
            "[-1, 1, 4, 5, 5, 7]\n"
          ]
        }
      ]
    },
    {
      "cell_type": "code",
      "source": [
        "doctest.testmod()"
      ],
      "metadata": {
        "id": "jj42LPq4qSpc",
        "colab": {
          "base_uri": "https://localhost:8080/"
        },
        "outputId": "cb969aef-3d29-4759-ecfb-d8fcdc97737d"
      },
      "execution_count": null,
      "outputs": [
        {
          "output_type": "execute_result",
          "data": {
            "text/plain": [
              "TestResults(failed=0, attempted=7)"
            ]
          },
          "metadata": {},
          "execution_count": 15
        }
      ]
    },
    {
      "cell_type": "markdown",
      "source": [
        "**Ejercicio:** Implementa el cálculo de la transpuesta de una matriz mediante listas por comprensión. Se proporciona como ayuda la implementación de la transpuesta de una matriz \"a pelo\"."
      ],
      "metadata": {
        "id": "dYPy5ipGqf95"
      }
    },
    {
      "cell_type": "code",
      "source": [
        "#La siguiente función calcula la traspuesta de una matriz \"a pelo\".\n",
        "def traspuestaAPelo (m):\n",
        "    tras=[]\n",
        "    for i in range(len(m[0])):\n",
        "        filaT=[]\n",
        "        for j in range(len(m)):\n",
        "            filaT.append(m[j][i])\n",
        "        tras.append(filaT)\n",
        "    return(tras)\n",
        "traspuestaAPelo([[1,2,3],[4,5,6]])"
      ],
      "metadata": {
        "id": "o87fiBLgqrkQ",
        "outputId": "a8b5e705-d579-42f9-bcee-65576eb91e48",
        "colab": {
          "base_uri": "https://localhost:8080/"
        }
      },
      "execution_count": 6,
      "outputs": [
        {
          "output_type": "execute_result",
          "data": {
            "text/plain": [
              "[[1, 4], [2, 5], [3, 6]]"
            ]
          },
          "metadata": {},
          "execution_count": 6
        }
      ]
    },
    {
      "cell_type": "code",
      "source": [
        "def transpuesta(lista):\n",
        "  '''\n",
        "  >>> transpuesta([[1,2,3],[4,5,6]])\n",
        "  [[1, 4], [2, 5], [3, 6]]\n",
        "  >>> transpuesta([[1, 4], [2, 5], [3, 6]])\n",
        "  [[1, 2, 3], [4, 5, 6]]\n",
        "  >>> transpuesta([[1, 4, 5], [2, 5, 7], [3, 6, 1]])\n",
        "  [[1, 2, 3], [4, 5, 6], [5, 7, 1]]\n",
        "  '''\n",
        "  return [[lista[j][i] for j in range(len(lista))] for i in range(len(lista[0])) ]\n",
        "\n",
        "print(transpuesta([[1,2,3],[4,5,6]]))\n",
        "print(transpuesta([[1, 4], [2, 5], [3, 6]]))\n",
        "print(transpuesta([[1, 4, 5], [2, 5, 7], [3, 6, 1]]))"
      ],
      "metadata": {
        "id": "Tg-5h79sqf96",
        "outputId": "2389f0e0-20b1-4200-ef6b-216768bcf855",
        "colab": {
          "base_uri": "https://localhost:8080/"
        }
      },
      "execution_count": 7,
      "outputs": [
        {
          "output_type": "stream",
          "name": "stdout",
          "text": [
            "[[1, 4], [2, 5], [3, 6]]\n",
            "[[1, 2, 3], [4, 5, 6]]\n",
            "[[1, 2, 3], [4, 5, 6], [5, 7, 1]]\n"
          ]
        }
      ]
    },
    {
      "cell_type": "code",
      "source": [
        "doctest.testmod()"
      ],
      "metadata": {
        "id": "bn2-KE4Fqf96",
        "colab": {
          "base_uri": "https://localhost:8080/"
        },
        "outputId": "65a1d339-b56a-4588-b373-a8602f5cba5b"
      },
      "execution_count": 8,
      "outputs": [
        {
          "output_type": "execute_result",
          "data": {
            "text/plain": [
              "TestResults(failed=0, attempted=7)"
            ]
          },
          "metadata": {},
          "execution_count": 8
        }
      ]
    },
    {
      "cell_type": "markdown",
      "metadata": {
        "id": "Z8clnWPnmCvU"
      },
      "source": [
        "**Ejercicio:** Dado un grafo orientado (representado mediante un diccionario en el cual las claves son los vértices y los valores son listas con los vertices adyacentes)  y uno de sus vértices, decidir si ese vértice es un sumidero (ninguna arista sale desde él). Además, mediante listas por comprensión, dado un grafo orientado decidir si contiene algún sumidero."
      ]
    },
    {
      "cell_type": "code",
      "source": [
        "def es_sumidero(grafo,vertice):\n",
        "  '''\n",
        "  >>> es_sumidero({1: [2,3,4], 2: [], 3: [2,4],4: [2]}, 2)\n",
        "  True\n",
        "  >>> es_sumidero({1: [2,3,4], 2: [], 3: [2,4],4: [2]}, 1)\n",
        "  False\n",
        "  >>> es_sumidero({1: [2,3,4], 2: [], 3: [2,4],4: [2]}, 3)\n",
        "  False\n",
        "  >>> es_sumidero({1: [2,3,4], 2: [], 3: [2,4],4: [2]}, 4)\n",
        "  False\n",
        "  '''\n",
        "  if grafo[vertice] != []:\n",
        "    return False\n",
        "\n",
        "  for v, adyacentes in grafo.items():\n",
        "    if v != vertice:\n",
        "      if vertice not in adyacentes:\n",
        "        return False\n",
        "\n",
        "  return True\n",
        "\n",
        "\n",
        "es_sumidero({1: [2,3,4], 2: [], 3: [2,4],4: [2]}, 2)"
      ],
      "metadata": {
        "id": "PzF-FYWYqxa7",
        "outputId": "11d9faae-0fa5-45e9-8a72-fd6230f936c3",
        "colab": {
          "base_uri": "https://localhost:8080/"
        }
      },
      "execution_count": 6,
      "outputs": [
        {
          "output_type": "execute_result",
          "data": {
            "text/plain": [
              "True"
            ]
          },
          "metadata": {},
          "execution_count": 6
        }
      ]
    },
    {
      "cell_type": "code",
      "source": [
        "doctest.testmod()"
      ],
      "metadata": {
        "id": "bl27b1NeqxVf",
        "outputId": "e3a83b33-6b73-4019-f4ba-ab2c8c8c201c",
        "colab": {
          "base_uri": "https://localhost:8080/"
        }
      },
      "execution_count": 7,
      "outputs": [
        {
          "output_type": "execute_result",
          "data": {
            "text/plain": [
              "TestResults(failed=0, attempted=4)"
            ]
          },
          "metadata": {},
          "execution_count": 7
        }
      ]
    },
    {
      "cell_type": "code",
      "source": [
        "def contiene_sumidero(grafo):\n",
        "  '''\n",
        "  >>> contiene_sumidero({1: [2,3,4], 2: [], 3: [2,4],4: [2]})\n",
        "  True\n",
        "  >>> contiene_sumidero({})\n",
        "  False\n",
        "  >>> contiene_sumidero({1: [2,4], 2: [3,4], 3: [1],4: [3]})\n",
        "  False\n",
        "  '''\n",
        "  return any(grafo[v] == [] and all(v in grafo[u] for u in grafo if u != v)\n",
        "               for v in grafo)\n",
        "\n",
        "\n",
        "contiene_sumidero({1: [2,3,4], 2: [], 3: [2,4],4: [2]})\n",
        "contiene_sumidero({})"
      ],
      "metadata": {
        "id": "I1k3NqCGqxBn",
        "outputId": "b64788a6-99d7-4276-bca2-7c418493a086",
        "colab": {
          "base_uri": "https://localhost:8080/"
        }
      },
      "execution_count": 9,
      "outputs": [
        {
          "output_type": "execute_result",
          "data": {
            "text/plain": [
              "False"
            ]
          },
          "metadata": {},
          "execution_count": 9
        }
      ]
    },
    {
      "cell_type": "code",
      "source": [
        "doctest.testmod()"
      ],
      "metadata": {
        "id": "n35HWr03qw4P",
        "outputId": "2ab6d131-3dfa-4519-cf80-4de6978cc55a",
        "colab": {
          "base_uri": "https://localhost:8080/"
        }
      },
      "execution_count": 10,
      "outputs": [
        {
          "output_type": "execute_result",
          "data": {
            "text/plain": [
              "TestResults(failed=0, attempted=7)"
            ]
          },
          "metadata": {},
          "execution_count": 10
        }
      ]
    },
    {
      "cell_type": "markdown",
      "metadata": {
        "id": "9Cwzs5bMmCvU"
      },
      "source": [
        "**Ejercicio:** Implementa tu propio método zip de una lista de listas usando listas por comprensión."
      ]
    },
    {
      "cell_type": "code",
      "execution_count": 16,
      "metadata": {
        "id": "ggoLm4YWmCvU",
        "outputId": "81b7ed99-b80a-47ad-bfa2-7690c1791680",
        "colab": {
          "base_uri": "https://localhost:8080/"
        }
      },
      "outputs": [
        {
          "output_type": "execute_result",
          "data": {
            "text/plain": [
              "[(1, 4), (2, 5)]"
            ]
          },
          "metadata": {},
          "execution_count": 16
        }
      ],
      "source": [
        "def mizip(lista1,lista2):\n",
        "  '''\n",
        "  >>> mizip([1,2,3],[4,5])\n",
        "  [(1, 4), (2, 5)]\n",
        "  >>> mizip([1,2,3],[4,5,6])\n",
        "  [(1, 4), (2, 5), (3, 6)]\n",
        "  >>> mizip([1,2],[4,5,6])\n",
        "  [(1, 4), (2, 5)]\n",
        "  '''\n",
        "  return [(lista1[i],lista2[i]) for i in range(min(len(lista1),len(lista2)))]\n",
        "\n",
        "mizip([1,2,3],[4,5])"
      ]
    },
    {
      "cell_type": "code",
      "execution_count": 17,
      "metadata": {
        "id": "F0QF_VgCmCvU",
        "outputId": "60ffe58f-9cc8-4cd7-d70d-db2b0a607af3",
        "colab": {
          "base_uri": "https://localhost:8080/"
        }
      },
      "outputs": [
        {
          "output_type": "execute_result",
          "data": {
            "text/plain": [
              "TestResults(failed=0, attempted=10)"
            ]
          },
          "metadata": {},
          "execution_count": 17
        }
      ],
      "source": [
        "doctest.testmod()"
      ]
    },
    {
      "cell_type": "markdown",
      "source": [
        "# Entrega\n",
        "Recuerda guardar este notebook en tu repositorio de GitHub."
      ],
      "metadata": {
        "id": "LjU5aMwiHbn0"
      }
    }
  ],
  "metadata": {
    "celltoolbar": "Raw Cell Format",
    "kernelspec": {
      "display_name": "Python 3 (ipykernel)",
      "language": "python",
      "name": "python3"
    },
    "language_info": {
      "codemirror_mode": {
        "name": "ipython",
        "version": 3
      },
      "file_extension": ".py",
      "mimetype": "text/x-python",
      "name": "python",
      "nbconvert_exporter": "python",
      "pygments_lexer": "ipython3",
      "version": "3.8.10"
    },
    "colab": {
      "provenance": [],
      "include_colab_link": true
    }
  },
  "nbformat": 4,
  "nbformat_minor": 0
}